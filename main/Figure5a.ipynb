{
 "cells": [
  {
   "cell_type": "code",
   "execution_count": 3,
   "metadata": {},
   "outputs": [],
   "source": [
    "import pandas as pd\n",
    "import numpy as np\n",
    "import spiro.data_preprocessing\n",
    "from spiro.models import *\n",
    "from spiro.learners import *\n",
    "from sklearn.preprocessing import MinMaxScaler\n",
    "from sklearn.ensemble import RandomForestRegressor\n",
    "import random\n",
    "from sklearn.tree import DecisionTreeRegressor\n",
    "import xgboost as xgb\n",
    "from tqdm import tqdm\n",
    "import pickle\n",
    "\n",
    "# Setting the seed for reproducibility\n",
    "\n",
    "np.random.seed(0)\n",
    "random.seed(0)"
   ]
  },
  {
   "cell_type": "code",
   "execution_count": 4,
   "metadata": {},
   "outputs": [],
   "source": [
    "import warnings\n",
    "from sklearn.exceptions import DataConversionWarning\n",
    "\n",
    "warnings.filterwarnings(action=\"ignore\", category=DataConversionWarning)"
   ]
  },
  {
   "cell_type": "code",
   "execution_count": 5,
   "metadata": {},
   "outputs": [],
   "source": [
    "data = pd.read_csv(\"../data/feature_30_joint_51.csv\")\n",
    "data2 = pd.DataFrame(np.load(\"../data/Final_features_3k5k_order5_53.npy\",allow_pickle=True))"
   ]
  },
  {
   "cell_type": "code",
   "execution_count": 6,
   "metadata": {},
   "outputs": [],
   "source": [
    "data= data[~data.iloc[:,0].isin([21,48])].reset_index(drop=True)"
   ]
  },
  {
   "cell_type": "code",
   "execution_count": 7,
   "metadata": {},
   "outputs": [],
   "source": [
    "data.drop(\"Unnamed: 0\",axis=1,inplace=True)"
   ]
  },
  {
   "cell_type": "code",
   "execution_count": 8,
   "metadata": {},
   "outputs": [
    {
     "data": {
      "text/plain": [
       "(51, 713)"
      ]
     },
     "execution_count": 8,
     "metadata": {},
     "output_type": "execute_result"
    }
   ],
   "source": [
    "remove = ['P1', 'P11', 'P22', 'P22', 'P25', 'P37', 'P4', 'P47', 'P48', 'P49', 'P54', 'P56', 'P59','P16', 'P24', 'P68', 'P72','P74','P75','P30','P67']\n",
    "data2 = data2[~data2.iloc[:,0].isin(remove)]\n",
    "data2.shape"
   ]
  },
  {
   "cell_type": "code",
   "execution_count": 9,
   "metadata": {},
   "outputs": [],
   "source": [
    "X= pd.DataFrame(data,dtype=\"float\")"
   ]
  },
  {
   "cell_type": "code",
   "execution_count": 10,
   "metadata": {},
   "outputs": [],
   "source": [
    "pid= data2.iloc[:,0].values"
   ]
  },
  {
   "cell_type": "code",
   "execution_count": 11,
   "metadata": {},
   "outputs": [],
   "source": [
    "X = MinMaxScaler().fit_transform(X)\n",
    "Y = data2.iloc[:,-2].astype(\"float\")\n",
    "Y = np.array(Y)"
   ]
  },
  {
   "cell_type": "code",
   "execution_count": 12,
   "metadata": {},
   "outputs": [],
   "source": [
    "def train_pool_split(X, Y, train_idx, test_idx):\n",
    "    pool_idx = [i for i in range(0, X.shape[0]) if i not in train_idx + test_idx]\n",
    "    X_train, X_test, X_pool = X[train_idx], X[test_idx], X[pool_idx]\n",
    "    Y_train, Y_test, Y_pool = Y[train_idx], Y[test_idx], Y[pool_idx]\n",
    "    print(\"Shape of X_train = {} and Y_train = {}\".format(X_train.shape, Y_train.shape))\n",
    "    print(\"Shape of X_test = {} and Y_test = {}\".format(X_test.shape, Y_test.shape))\n",
    "    print(\"Shape of X_pool = {} and Y_pool = {}\".format(X_pool.shape, Y_pool.shape))\n",
    "    return X_train, X_test, X_pool, Y_train, Y_test, Y_pool\n"
   ]
  },
  {
   "cell_type": "code",
   "execution_count": 13,
   "metadata": {},
   "outputs": [],
   "source": [
    "train_idx, test_idx= [1, 40, 38, 15, 45, 10, 19, 35], [0, 42, 30, 6, 17, 8, 33, 44, 11, 36]\n",
    "pool_idx = [i for i in range(0, X.shape[0]) if i not in train_idx + test_idx]\n",
    "pid = pid[pool_idx]"
   ]
  },
  {
   "cell_type": "code",
   "execution_count": 14,
   "metadata": {},
   "outputs": [],
   "source": [
    "def al_loop(model,X_train, X_test, X_pool, Y_train, Y_test, Y_pool,strategy,pid,print_query_idx=False):\n",
    "    scores = []\n",
    "    learner = Learner(model, strategy, X_pool, Y_pool)\n",
    "    learner.fit(X_train, Y_train)\n",
    "    score, pred = learner.score(X_test, Y_test, \"mape\",print_score=True)\n",
    "    std_list=[]\n",
    "    pid_removed=[]\n",
    "    new_pid= pid.copy()\n",
    "\n",
    "    scores.append(score)\n",
    "    for i in range(33):\n",
    "        q, unc = learner.query(print_query_idx=print_query_idx)\n",
    "        std_list.append(unc)\n",
    "        learner.teach(q)\n",
    "        pid_removed.append(new_pid[q])\n",
    "        new_pid = np.delete(new_pid, q, axis=0)\n",
    "        score, pred = learner.score(X_test, Y_test, \"mape\")\n",
    "        scores.append(score)\n",
    "    return scores,std_list,pid_removed"
   ]
  },
  {
   "cell_type": "code",
   "execution_count": 15,
   "metadata": {},
   "outputs": [
    {
     "name": "stdout",
     "output_type": "stream",
     "text": [
      "Shape of X_train = (8, 30) and Y_train = (8,)\n",
      "Shape of X_test = (10, 30) and Y_test = (10,)\n",
      "Shape of X_pool = (33, 30) and Y_pool = (33,)\n"
     ]
    }
   ],
   "source": [
    "X_train, X_test, X_pool, Y_train, Y_test, Y_pool = train_pool_split(X, Y, train_idx, test_idx)"
   ]
  },
  {
   "cell_type": "code",
   "execution_count": 16,
   "metadata": {},
   "outputs": [],
   "source": [
    "rf = RandomForestRegressor(random_state=0) #for FEV1"
   ]
  },
  {
   "cell_type": "code",
   "execution_count": 17,
   "metadata": {},
   "outputs": [
    {
     "name": "stdout",
     "output_type": "stream",
     "text": [
      "------------------Uncertainty Sampling------------------\n",
      "Fitting the model on initial train data\n",
      "MAPE score:  5.931653764086877\n",
      "------------------Random Sampling------------------\n",
      "Fitting the model on initial train data\n",
      "MAPE score:  5.931653764086877\n",
      "Fitting the model on initial train data\n",
      "MAPE score:  5.931653764086877\n",
      "Fitting the model on initial train data\n",
      "MAPE score:  5.931653764086877\n",
      "Fitting the model on initial train data\n",
      "MAPE score:  5.931653764086877\n",
      "Fitting the model on initial train data\n",
      "MAPE score:  5.931653764086877\n",
      "Fitting the model on initial train data\n",
      "MAPE score:  5.931653764086877\n",
      "Fitting the model on initial train data\n",
      "MAPE score:  5.931653764086877\n",
      "Fitting the model on initial train data\n",
      "MAPE score:  5.931653764086877\n",
      "Fitting the model on initial train data\n",
      "MAPE score:  5.931653764086877\n",
      "Fitting the model on initial train data\n",
      "MAPE score:  5.931653764086877\n",
      "Fitting the model on initial train data\n",
      "MAPE score:  5.931653764086877\n",
      "Fitting the model on initial train data\n",
      "MAPE score:  5.931653764086877\n",
      "Fitting the model on initial train data\n",
      "MAPE score:  5.931653764086877\n",
      "Fitting the model on initial train data\n",
      "MAPE score:  5.931653764086877\n",
      "Fitting the model on initial train data\n",
      "MAPE score:  5.931653764086877\n",
      "Fitting the model on initial train data\n",
      "MAPE score:  5.931653764086877\n",
      "Fitting the model on initial train data\n",
      "MAPE score:  5.931653764086877\n",
      "Fitting the model on initial train data\n",
      "MAPE score:  5.931653764086877\n",
      "Fitting the model on initial train data\n",
      "MAPE score:  5.931653764086877\n",
      "Fitting the model on initial train data\n",
      "MAPE score:  5.931653764086877\n"
     ]
    }
   ],
   "source": [
    "model = SklearnEnsemble(rf)\n",
    "print(\"------------------Uncertainty Sampling------------------\")\n",
    "# Uncertainty Sampling\n",
    "scores,std_list,pid_removed = al_loop(model,X_train, X_test, X_pool, Y_train, Y_test, Y_pool, \"std_dev\",pid,False)\n",
    "\n",
    "# Random Sampling\n",
    "print(\"------------------Random Sampling------------------\")\n",
    "np.random.seed(0)\n",
    "random.seed(0)\n",
    "final_random_scores = []\n",
    "for i in range(20):\n",
    "    random_scores,_,_= al_loop(model,X_train, X_test, X_pool, Y_train, Y_test, Y_pool,\"random\",pid)\n",
    "    final_random_scores.append(random_scores)"
   ]
  },
  {
   "cell_type": "code",
   "execution_count": 18,
   "metadata": {},
   "outputs": [],
   "source": [
    "import matplotlib.pyplot as plt\n",
    "import seaborn as sns\n",
    "from tueplots import bundles\n",
    "import numpy as np\n",
    "\n",
    "from tueplots import figsizes, fontsizes, fonts\n",
    "figsizes.tmlr2023(nrows=2)[\"figure.figsize\"]\n",
    "plt.rcParams.update(bundles.tmlr2023(rel_width=0.7))\n",
    "plt.rcParams['axes.labelsize']=12\n",
    "plt.rcParams['legend.fontsize']=10\n",
    "plt.rcParams['axes.titlesize']=12\n",
    "plt.rcParams['xtick.labelsize']=10\n",
    "plt.rcParams['ytick.labelsize']=10\n",
    "\n",
    "def plot_scores(random_scores, scores, strategy, task_name):\n",
    "    random_scores_array = np.array(random_scores)\n",
    "    random_mean = np.array(np.mean(random_scores_array, axis=0))\n",
    "    random_std = np.array(np.std(random_scores_array, axis=0))\n",
    "\n",
    "    # plt.figure(figsize=(8, 5))\n",
    "    x = [i for i in range(0, 34)]\n",
    "    plt.plot(x, random_mean, label=\"(RF,Random)\", color=\"darkblue\")\n",
    "    plt.fill_between(\n",
    "        x, random_mean - random_std, random_mean + random_std, color=\"cornflowerblue\"\n",
    "    )\n",
    "\n",
    "    plt.plot(x, scores, label=\"(RF, Uncertainty)\", color=\"orangered\")\n",
    "\n",
    "    plt.legend(loc=1)\n",
    "    plt.ylim(top=7)\n",
    "    plt.ylim(bottom=3)\n",
    "\n",
    "    plt.xlabel(\"Query iteration\")\n",
    "    plt.ylabel(\"MAPE\")\n",
    "    # plt.title(\"Performance using \" + strategy + \" on \" + str(task_name))\n",
    "    sns.despine()\n",
    "    # plt.savefig(\"FEV1_rf.png\",bbox_inches='tight')\n",
    "    plt.show()\n"
   ]
  },
  {
   "cell_type": "code",
   "execution_count": 19,
   "metadata": {},
   "outputs": [
    {
     "data": {
      "image/png": "[encoded data removed]",
      "text/plain": [
       "<Figure size 455x281.205 with 1 Axes>"
      ]
     },
     "metadata": {},
     "output_type": "display_data"
    }
   ],
   "source": [
    "plot_scores(final_random_scores, scores, \"Uncertainty Sampling\", \"FEV1\")"
   ]
  },
  {
   "cell_type": "code",
   "execution_count": 20,
   "metadata": {},
   "outputs": [],
   "source": [
    "# For generating figure 7\n",
    "with open(\"../results/figure7/pid_removed_fev1.pkl\",\"wb\") as f:\n",
    "    pickle.dump(pid_removed,f)"
   ]
  },
  {
   "cell_type": "code",
   "execution_count": 21,
   "metadata": {},
   "outputs": [],
   "source": [
    "# For generating figure 16\n",
    "with open(\"../results/figure8/std_iter1_fev1.pkl\",\"wb\") as f:\n",
    "    pickle.dump(std_list[0],f)"
   ]
  }
 ],
 "metadata": {
  "kernelspec": {
   "display_name": "madhav",
   "language": "python",
   "name": "python3"
  },
  "language_info": {
   "codemirror_mode": {
    "name": "ipython",
    "version": 3
   },
   "file_extension": ".py",
   "mimetype": "text/x-python",
   "name": "python",
   "nbconvert_exporter": "python",
   "pygments_lexer": "ipython3",
   "version": "3.12.0"
  }
 },
 "nbformat": 4,
 "nbformat_minor": 2
}
