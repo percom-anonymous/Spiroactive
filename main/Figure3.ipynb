{
 "cells": [
  {
   "cell_type": "code",
   "execution_count": 6,
   "metadata": {},
   "outputs": [],
   "source": [
    "import pandas as pd\n",
    "import numpy as np\n",
    "import spiro.data_preprocessing\n",
    "from spiro.models import *\n",
    "from spiro.learners import *\n",
    "from sklearn.preprocessing import MinMaxScaler\n",
    "from sklearn.ensemble import RandomForestRegressor\n",
    "import random\n",
    "from sklearn.tree import DecisionTreeRegressor\n",
    "import xgboost as xgb\n",
    "from tqdm import tqdm\n",
    "import pickle\n",
    "from sklearn.model_selection import train_test_split\n",
    "from sklearn.metrics.pairwise import cosine_similarity\n",
    "import copy\n",
    "\n",
    "\n",
    "\n",
    "# Setting the seed for reproducibility\n",
    "\n",
    "np.random.seed(0)\n",
    "random.seed(0)\n",
    "\n",
    "import os\n",
    "import matplotlib as mpl\n",
    "import matplotlib.pyplot as plt\n",
    "import probml_utils as pml\n",
    "import seaborn as sns\n",
    "import pathlib"
   ]
  },
  {
   "cell_type": "code",
   "execution_count": 7,
   "metadata": {},
   "outputs": [],
   "source": [
    "import warnings\n",
    "from sklearn.exceptions import DataConversionWarning\n",
    "\n",
    "warnings.filterwarnings(action=\"ignore\", category=DataConversionWarning)"
   ]
  },
  {
   "cell_type": "code",
   "execution_count": 8,
   "metadata": {
    "deletable": false,
    "editable": false
   },
   "outputs": [],
   "source": [
    "data_dir = pathlib.Path(os.getcwd()).parents[0].joinpath('data')\n",
    "fig_dir = str(pathlib.Path(os.getcwd()).parents[0].joinpath('figures'))"
   ]
  },
  {
   "cell_type": "code",
   "execution_count": 9,
   "metadata": {},
   "outputs": [],
   "source": [
    "os.environ['LATEXIFY'] = '1'\n",
    "os.environ['FIG_DIR'] = fig_dir\n",
    "\n",
    "p = plt.rcParams\n",
    "\n",
    "# Grid Setting\n",
    "p[\"grid.color\"] = \"#999999\"\n",
    "p[\"grid.linestyle\"] = \"--\"\n",
    "\n",
    "# Markersize setting for scatter\n",
    "if pml.is_latexify_enabled():\n",
    "    p[\"lines.markersize\"] = 5\n",
    "    p[\"lines.markeredgewidth\"] = 1.5\n",
    "    p[\"lines.linewidth\"] = 2\n",
    "    p[\"grid.linewidth\"] = 0.5\n",
    "else:\n",
    "    p[\"lines.markersize\"] = 5\n",
    "    p[\"lines.markeredgewidth\"] = 1.5\n",
    "    p[\"lines.linewidth\"] = 2"
   ]
  },
  {
   "cell_type": "code",
   "execution_count": 10,
   "metadata": {},
   "outputs": [],
   "source": [
    "data = pd.read_csv(\"../data/feature_30_joint_51.csv\")\n",
    "data2 = pd.DataFrame(np.load(\"../data/Final_features_3k5k_order5_53.npy\",allow_pickle=True))"
   ]
  },
  {
   "cell_type": "code",
   "execution_count": 11,
   "metadata": {},
   "outputs": [],
   "source": [
    "data= data[~data.iloc[:,0].isin([21,48])].reset_index(drop=True)"
   ]
  },
  {
   "cell_type": "code",
   "execution_count": 12,
   "metadata": {},
   "outputs": [],
   "source": [
    "data.drop(\"Unnamed: 0\",axis=1,inplace=True)"
   ]
  },
  {
   "cell_type": "code",
   "execution_count": 13,
   "metadata": {},
   "outputs": [
    {
     "data": {
      "text/plain": [
       "(51, 713)"
      ]
     },
     "execution_count": 13,
     "metadata": {},
     "output_type": "execute_result"
    }
   ],
   "source": [
    "remove = ['P1', 'P11', 'P22', 'P22', 'P25', 'P37', 'P4', 'P47', 'P48', 'P49', 'P54', 'P56', 'P59','P16', 'P24', 'P68', 'P72','P74','P75','P30','P67']\n",
    "data2 = data2[~data2.iloc[:,0].isin(remove)]\n",
    "data2.shape"
   ]
  },
  {
   "cell_type": "code",
   "execution_count": 14,
   "metadata": {},
   "outputs": [],
   "source": [
    "def train_pool_split(X, Y, train_idx, test_idx):\n",
    "    pool_idx = [i for i in range(0, X.shape[0]) if i not in train_idx + test_idx]\n",
    "    X_train, X_test, X_pool = X[train_idx].copy(), X[test_idx].copy(), X[pool_idx].copy()\n",
    "    Y_train, Y_test, Y_pool = Y[train_idx].copy(), Y[test_idx].copy(), Y[pool_idx].copy()\n",
    "#     print(\"Shape of X_train = {} and Y_train = {}\".format(X_train.shape, Y_train.shape))\n",
    "#     print(\"Shape of X_test = {} and Y_test = {}\".format(X_test.shape, Y_test.shape))\n",
    "#     print(\"Shape of X_pool = {} and Y_pool = {}\".format(X_pool.shape, Y_pool.shape))\n",
    "    return X_train, X_test, X_pool, Y_train, Y_test, Y_pool\n"
   ]
  },
  {
   "cell_type": "code",
   "execution_count": 15,
   "metadata": {},
   "outputs": [],
   "source": [
    "def al_loop(model,X_train, X_test, X_pool, Y_train, Y_test, Y_pool,strategy,pid,print_query_idx=False):\n",
    "    scores = []\n",
    "    learner = Learner(model, strategy, X_pool, Y_pool)\n",
    "    learner.fit(X_train, Y_train)\n",
    "    score, pred = learner.score(X_test, Y_test, \"mape\",print_score=True)\n",
    "    std_list=[]\n",
    "    pid_removed=[]\n",
    "    new_pid= pid.copy()\n",
    "\n",
    "    scores.append(score)\n",
    "    for i in range(33):\n",
    "        q, unc = learner.query(print_query_idx=print_query_idx)\n",
    "        std_list.append(unc)\n",
    "        learner.teach(q)\n",
    "        pid_removed.append(new_pid[q])\n",
    "        new_pid = np.delete(new_pid, q, axis=0)\n",
    "        score, pred = learner.score(X_test, Y_test, \"mape\")\n",
    "        scores.append(score)\n",
    "    return scores,std_list,pid_removed"
   ]
  },
  {
   "cell_type": "code",
   "execution_count": 16,
   "metadata": {},
   "outputs": [],
   "source": [
    "def al_scores(train_idx_,test_idx_):\n",
    "    X= pd.DataFrame(data,dtype=\"float\")\n",
    "\n",
    "    pid= data2.iloc[:,0].values\n",
    "\n",
    "    X = MinMaxScaler().fit_transform(X)\n",
    "    Y = data2.iloc[:,-1].astype(\"float\")\n",
    "    Y = np.array(Y)\n",
    "\n",
    "    train_idx, test_idx= train_idx_,test_idx_\n",
    "    pool_idx = [i for i in range(0, X.shape[0]) if i not in train_idx + test_idx]\n",
    "    pid = pid[pool_idx]\n",
    "\n",
    "\n",
    "    X_train, X_test, X_pool, Y_train, Y_test, Y_pool = train_pool_split(X, Y, train_idx, test_idx)\n",
    "\n",
    "    rf = RandomForestRegressor(random_state=108) \n",
    "\n",
    "\n",
    "    model = SklearnEnsemble(rf)\n",
    "    print(\"------------------Uncertainty Sampling------------------\")\n",
    "    # Uncertainty Sampling\n",
    "    scores,std_list,pid_removed = al_loop(model,X_train, X_test, X_pool, Y_train, Y_test, Y_pool, \"std_dev\",pid,False)\n",
    "\n",
    "    print('\\n')\n",
    "\n",
    "    return scores"
   ]
  },
  {
   "cell_type": "code",
   "execution_count": 17,
   "metadata": {},
   "outputs": [
    {
     "name": "stdout",
     "output_type": "stream",
     "text": [
      "------------------Uncertainty Sampling------------------\n",
      "Fitting the model on initial train data\n",
      "MAPE score:  5.321598923182042\n",
      "\n",
      "\n",
      "------------------Uncertainty Sampling------------------\n",
      "Fitting the model on initial train data\n",
      "MAPE score:  11.170701684505715\n",
      "\n",
      "\n",
      "------------------Uncertainty Sampling------------------\n",
      "Fitting the model on initial train data\n",
      "MAPE score:  3.209520343428844\n",
      "\n",
      "\n"
     ]
    }
   ],
   "source": [
    "train_idx_avg, test_idx_avg = [1, 40, 38, 15, 45, 10, 19, 35], [0, 42, 30, 6, 17, 8, 33, 44, 11, 36]\n",
    "train_idx_worst, test_idx_worst =  [21, 5, 20, 42, 32, 39, 41, 3], [2, 30, 44, 7, 38, 15, 35, 31, 26, 14]\n",
    "train_idx_best, test_idx_best = [31, 33, 44, 50, 10, 9, 32, 17],[29, 22, 37, 12, 13, 40, 48, 16, 15, 7]\n",
    "\n",
    "\n",
    "scores_avg = al_scores(train_idx_avg,test_idx_avg)\n",
    "scores_worst = al_scores(train_idx_worst,test_idx_worst)\n",
    "scores_best = al_scores(train_idx_best,test_idx_best)"
   ]
  },
  {
   "cell_type": "code",
   "execution_count": 36,
   "metadata": {},
   "outputs": [],
   "source": [
    "import matplotlib.pyplot as plt\n",
    "import seaborn as sns\n",
    "# from tueplots import bundles\n",
    "import numpy as np\n",
    "\n",
    "\n",
    "def plot_scores(scores_avg,scores_best,scores_worst, strategy, task_name,latexify_dict,plotting_dict,grid_flag):\n",
    "    \n",
    "     # Initialize figure\n",
    "    fig = plt.figure()\n",
    "    ax = plt.gca()\n",
    "    \n",
    "    ax.grid(grid_flag)\n",
    "    \n",
    "    x = [i for i in range(0, 34)]\n",
    "\n",
    "    plt.plot(x, scores_avg, label=\"Avg Set (RF, Uncertainty)\", color=\"orangered\")\n",
    "    plt.plot(x, scores_best, label=\"Best Set (RF, Uncertainty)\", color=\"green\")\n",
    "    plt.plot(x,scores_worst,label=\"Worst Set (RF, Uncertainty)\", color=\"red\")\n",
    "\n",
    "    plt.legend(loc=1)\n",
    "    plt.ylim(top=13)\n",
    "    plt.ylim(bottom=2)\n",
    "\n",
    "    \n",
    "    sns.despine()\n",
    "    # Custom plotting options\n",
    "    if pml.is_latexify_enabled() and latexify_dict[\"fig_name\"]:\n",
    "        pml.latexify(**latexify_dict[\"latexify_parms\"])\n",
    "        plt.legend(**latexify_dict[\"legend_params\"])\n",
    "        ax.set_xlabel(\"Query iteration\",**latexify_dict[\"axis_params\"])\n",
    "        ax.set_ylabel(\"MAPE (Lower is Better)\", **latexify_dict[\"axis_params\"])\n",
    "        ax.xaxis.set_tick_params(**latexify_dict[\"tick_size\"])\n",
    "        ax.yaxis.set_tick_params(**latexify_dict[\"tick_size\"])\n",
    "        pml.savefig(latexify_dict[\"fig_name\"])\n",
    "        figname = latexify_dict[\"fig_name\"]\n",
    "    else:\n",
    "        plt.legend(\n",
    "            loc=\"upper right\",\n",
    "            bbox_to_anchor=(1.55, 1),\n",
    "        )\n",
    "\n",
    "    plt.show()"
   ]
  },
  {
   "cell_type": "code",
   "execution_count": 37,
   "metadata": {},
   "outputs": [],
   "source": [
    "tmlr23023_bundle = {'text.usetex': True,\n",
    " 'font.family': 'serif',\n",
    " 'text.latex.preamble': '',\n",
    " 'figure.figsize': (3.9, 2.41033255612459),\n",
    " 'figure.constrained_layout.use': True,\n",
    " 'figure.autolayout': False,\n",
    " 'savefig.bbox': 'tight',\n",
    " 'savefig.pad_inches': 0.015,\n",
    " 'font.size': 9,\n",
    " 'axes.labelsize': 9,\n",
    " 'legend.fontsize': 7,\n",
    " 'xtick.labelsize': 7,\n",
    " 'ytick.labelsize': 7,\n",
    " 'axes.titlesize': 9}"
   ]
  },
  {
   "cell_type": "code",
   "execution_count": 38,
   "metadata": {},
   "outputs": [],
   "source": [
    "plt.rcParams.update(tmlr23023_bundle)"
   ]
  },
  {
   "cell_type": "code",
   "execution_count": 39,
   "metadata": {},
   "outputs": [],
   "source": [
    "# latexify_dict = {\n",
    "#     \"fig_name\": \"fig10_fvc_demo\",\n",
    "#     \"legend_params\": {\"loc\": \"best\", \"fontsize\": 10, \"framealpha\": 0.65,\"ncol\":2},\n",
    "#     \"latexify_parms\": {\"fig_width\":6,'fig_height':4},\n",
    "#     \"title_params\" : {\"fontsize\": 10},\n",
    "#     \"axis_params\" : {\"fontsize\": 12},\n",
    "#     \"tick_size\" : {\"labelsize\": 10}\n",
    "# }\n",
    "\n",
    "latexify_dict = {\n",
    "    \"fig_name\": \"fig10_fvc_demo\",\n",
    "    \"legend_params\": {},\n",
    "    \"latexify_parms\": {},\n",
    "    \"title_params\" : {},\n",
    "    \"axis_params\" : {\"fontsize\": 12},\n",
    "    \"tick_size\" : {\"labelsize\": 10}\n",
    "}\n",
    "\n",
    "plotting_dict = {}"
   ]
  },
  {
   "cell_type": "code",
   "execution_count": 40,
   "metadata": {},
   "outputs": [
    {
     "name": "stdout",
     "output_type": "stream",
     "text": [
      "saving image to /mnt/d/Anaconda Jupyter/Research/Spiromask/SpiroActive/figures/fig10_fvc_demo_latexified.pdf\n",
      "Figure size: [3.9        2.41033256]\n"
     ]
    },
    {
     "data": {
      "image/png": "[encoded data removed]",
      "text/plain": [
       "<Figure size 280.8x173.544 with 1 Axes>"
      ]
     },
     "metadata": {
      "needs_background": "light"
     },
     "output_type": "display_data"
    }
   ],
   "source": [
    "plot_scores(scores_avg,scores_best,scores_worst, \"Uncertainty Sampling\", \"FVC\",latexify_dict,plotting_dict,True)"
   ]
  }
 ],
 "metadata": {
  "kernelspec": {
   "display_name": "venvspiro38",
   "language": "python",
   "name": "venvspiro38"
  },
  "language_info": {
   "codemirror_mode": {
    "name": "ipython",
    "version": 3
   },
   "file_extension": ".py",
   "mimetype": "text/x-python",
   "name": "python",
   "nbconvert_exporter": "python",
   "pygments_lexer": "ipython3",
   "version": "3.8.10"
  }
 },
 "nbformat": 4,
 "nbformat_minor": 2
}
