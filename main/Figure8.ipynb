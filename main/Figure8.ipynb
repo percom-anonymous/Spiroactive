{
 "cells": [
  {
   "cell_type": "code",
   "execution_count": 1,
   "metadata": {},
   "outputs": [],
   "source": [
    "# to plot the uncertainties of the queries\n",
    "import matplotlib.pyplot as plt\n",
    "import seaborn as sns\n",
    "from tueplots import bundles\n",
    "import numpy as np\n",
    "import pickle\n",
    "\n",
    "from tueplots import figsizes, fontsizes, fonts\n",
    "figsizes.tmlr2023(nrows=2)[\"figure.figsize\"]\n",
    "plt.rcParams.update(bundles.tmlr2023(ncols=2))\n",
    "x = [i for i in range(0, 33)]\n",
    "plt.rcParams['axes.labelsize']=12\n",
    "plt.rcParams['legend.fontsize']=10\n",
    "plt.rcParams['axes.titlesize']=12\n",
    "plt.rcParams['xtick.labelsize']=10\n",
    "plt.rcParams['ytick.labelsize']=10"
   ]
  },
  {
   "cell_type": "code",
   "execution_count": 2,
   "metadata": {},
   "outputs": [],
   "source": [
    "# Load the data\n",
    "with open(\"../results/figure8/std_iter1_fev1.pkl\",\"rb\") as f:\n",
    "    std_fev1 = pickle.load(f)\n",
    "\n",
    "with open(\"../results/figure8/std_iter1_fvc.pkl\",\"rb\") as f:\n",
    "    std_fvc = pickle.load(f)"
   ]
  },
  {
   "cell_type": "code",
   "execution_count": 3,
   "metadata": {},
   "outputs": [
    {
     "data": {
      "image/png": "[encoded data removed]",
      "text/plain": [
       "<Figure size 650x200.861 with 1 Axes>"
      ]
     },
     "metadata": {},
     "output_type": "display_data"
    }
   ],
   "source": [
    "# Labels for the bars\n",
    "labels = [i for i in range(1,34)]\n",
    "\n",
    "# Positions of the bars on the x-axis\n",
    "x = np.arange(len(labels))\n",
    "\n",
    "# Width of each bar\n",
    "width = 0.4\n",
    "\n",
    "# Create the figure and axes\n",
    "fig, ax = plt.subplots()\n",
    "\n",
    "# Plot the bars for task 1\n",
    "ax.bar(x - width/2, std_fvc, width, label='FVC')\n",
    "\n",
    "# Plot the bars for task 2\n",
    "ax.bar(x + width/2, std_fev1, width, label='FEV1')\n",
    "\n",
    "# Add labels, title, and legend\n",
    "ax.set_xlabel('Pool Points')\n",
    "ax.set_ylabel('Standard deviation')\n",
    "# ax.set_title('Bar Graph: Task 1 vs Task 2')\n",
    "ax.set_xticks(x)\n",
    "ax.set_xticklabels(labels)\n",
    "ax.legend()\n",
    "plt.savefig(\"../figures/figure8.pdf\",bbox_inches=\"tight\")\n",
    "# Display the bar graph\n",
    "plt.show()"
   ]
  }
 ],
 "metadata": {
  "kernelspec": {
   "display_name": "madhav",
   "language": "python",
   "name": "python3"
  },
  "language_info": {
   "codemirror_mode": {
    "name": "ipython",
    "version": 3
   },
   "file_extension": ".py",
   "mimetype": "text/x-python",
   "name": "python",
   "nbconvert_exporter": "python",
   "pygments_lexer": "ipython3",
   "version": "3.12.0"
  }
 },
 "nbformat": 4,
 "nbformat_minor": 2
}
